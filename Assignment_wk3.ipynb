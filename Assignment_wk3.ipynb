{
    "cells": [
        {
            "cell_type": "markdown",
            "metadata": {},
            "source": "# MyJupyter Notebook on IBM Watson Studio\n"
        },
        {
            "cell_type": "markdown",
            "metadata": {},
            "source": "## Payodhi Thapliyal\nPolicy Data Analyst"
        },
        {
            "cell_type": "markdown",
            "metadata": {},
            "source": "_I am interested in data science because I want to further my career in policy analysis.An effective policy is based on good data analytics._  "
        },
        {
            "cell_type": "markdown",
            "metadata": {},
            "source": "### The code in cell 5 is showing the order of solving an equation BODMAS"
        },
        {
            "cell_type": "code",
            "execution_count": 1,
            "metadata": {},
            "outputs": [
                {
                    "data": {
                        "text/plain": "-3"
                    },
                    "execution_count": 1,
                    "metadata": {},
                    "output_type": "execute_result"
                }
            ],
            "source": "2^3+(3+2)-9"
        },
        {
            "cell_type": "markdown",
            "metadata": {},
            "source": "|Name|Birth Date|\n|----|----------|\n|Vedika|July 26|\n|Zainab|June 1|\n|Tonshi|August 30|\n|Medhavi|November 14|\n|Iris|April 23|\n\nBirthday Party Organiser\n1. Cake\n2. Decorations\n..*Streamers\n..*balloons\n..*cake\n..*party themed table mat\n..*party themed plates\n3. Invitations\n..*Smiths\n..*Saklanis\n..*Mrs. Stacey\n\n[Click me to order all birthday items online](https://www.amazon.com/)\n"
        },
        {
            "cell_type": "code",
            "execution_count": null,
            "metadata": {},
            "outputs": [],
            "source": ""
        }
    ],
    "metadata": {
        "kernelspec": {
            "display_name": "Python 3.7",
            "language": "python",
            "name": "python3"
        },
        "language_info": {
            "codemirror_mode": {
                "name": "ipython",
                "version": 3
            },
            "file_extension": ".py",
            "mimetype": "text/x-python",
            "name": "python",
            "nbconvert_exporter": "python",
            "pygments_lexer": "ipython3",
            "version": "3.7.10"
        }
    },
    "nbformat": 4,
    "nbformat_minor": 1
}